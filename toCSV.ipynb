{
 "cells": [
  {
   "cell_type": "code",
   "execution_count": 208,
   "id": "5c672d6a",
   "metadata": {},
   "outputs": [],
   "source": [
    "import numpy as np\n",
    "import os\n",
    "import json\n",
    "import pandas as pd\n",
    "import glob\n",
    "from tqdm import tqdm"
   ]
  },
  {
   "cell_type": "code",
   "execution_count": 201,
   "id": "b206f431",
   "metadata": {},
   "outputs": [],
   "source": [
    "# 取得某個階段的所有檔名\n",
    "def get_filename(root_dir):\n",
    "    tmp = glob.glob(root_dir + '/*.json')\n",
    "        \n",
    "    return tmp"
   ]
  },
  {
   "cell_type": "code",
   "execution_count": 219,
   "id": "f51cd752",
   "metadata": {},
   "outputs": [],
   "source": [
    "def Station2CSV(p):\n",
    "    sta = pd.DataFrame()\n",
    "    \n",
    "    for k in p.keys():\n",
    "        try:\n",
    "            # 看測站內有多少組波形資料\n",
    "            n_data = p[k]['numberOfData']\n",
    "            \n",
    "            for w in range(n_data):\n",
    "                tmp = {}\n",
    "                 \n",
    "                tmp['event'] = str(p['event']) # PK\n",
    "                tmp['distance'] = p[k]['distance']\n",
    "                tmp['p_weight'] = p[k]['p_weight']\n",
    "                tmp['s_weight'] = p[k]['s_weight']\n",
    "                tmp['network'] = p[k][str(w)]['network']\n",
    "                tmp['location'] = p[k][str(w)]['location']\n",
    "                tmp['sampling_rate'] = p[k][str(w)]['sampling_rate']\n",
    "                tmp['instrument'] = p[k][str(w)]['instrument']\n",
    "                tmp['starttime'] = p[k][str(w)]['starttime'][:-1]\n",
    "                tmp['p_arrival_time'] = p[k][str(w)]['p_arrival_time']\n",
    "                tmp['s_arrival_time'] = p[k][str(w)]['s_arrival_time']\n",
    "                tmp['pga'] = p[k][str(w)]['pga']\n",
    "                tmp['pgv'] = p[k][str(w)]['pgv']\n",
    "                tmp['intensity'] = p[k][str(w)]['intensity']\n",
    "                tmp['waveFile'] = p[k][str(w)]['waveFile']\n",
    "                tmp['instrument_available'] = p[k][str(w)]['DataAvailable']['instrument']\n",
    "                tmp['intensity_available'] = p[k][str(w)]['DataAvailable']['intensity']\n",
    "                tmp['pga_available'] = p[k][str(w)]['DataAvailable']['pga']\n",
    "                tmp['pgv_available'] = p[k][str(w)]['DataAvailable']['pgv']\n",
    "                tmp['Stime_available'] = p[k][str(w)]['DataAvailable']['Stime']\n",
    "               \n",
    "                idx = k+'_'+str(w)\n",
    "                info = pd.DataFrame(tmp, index=[idx])\n",
    "                sta = pd.concat([sta, info])\n",
    "           \n",
    "        except Exception as e:\n",
    "            #print(e)\n",
    "            pass\n",
    "        \n",
    "    return sta"
   ]
  },
  {
   "cell_type": "code",
   "execution_count": 220,
   "id": "6ae27fe0",
   "metadata": {},
   "outputs": [],
   "source": [
    "year = '2012'\n",
    "root_path = '/mnt/nas6/CWBSN/' + year\n",
    "save_path = '/mnt/nas6/CWBSN/' + year + '/csv'\n",
    "#root_path = '/mnt/nas6/CWBSN/example'\n",
    "#save_path = \"/mnt/nas6/CWBSN/example/csv/\"\n",
    "files = get_filename(root_path)"
   ]
  },
  {
   "cell_type": "code",
   "execution_count": 221,
   "id": "1fc637f9",
   "metadata": {},
   "outputs": [],
   "source": [
    "if not os.path.exists(save_path):\n",
    "    print('creating directiory: %s' %(save_path))\n",
    "    os.mkdir(save_path)"
   ]
  },
  {
   "cell_type": "code",
   "execution_count": 222,
   "id": "2b861a81",
   "metadata": {},
   "outputs": [
    {
     "name": "stderr",
     "output_type": "stream",
     "text": [
      "100%|███████████████████████████████████████████████████████████████████████████████████████████████████████████| 1253/1253 [05:19<00:00,  3.92it/s]\n"
     ]
    }
   ],
   "source": [
    "event_df = pd.DataFrame()\n",
    "sta_df = pd.DataFrame()\n",
    "\n",
    "for file in tqdm(files):\n",
    "    f = open(os.path.join(root_path, file), 'r')\n",
    "    p = json.load(f)\n",
    "    df = pd.json_normalize(p)\n",
    "    \n",
    "    event_df = pd.concat([event_df, pd.concat([df.loc[:, :'lon'], df['quality'], df['event']], axis=1)])\n",
    "    sta_df = pd.concat([sta_df, Station2CSV(p)])"
   ]
  },
  {
   "cell_type": "code",
   "execution_count": 223,
   "id": "b928dacd",
   "metadata": {},
   "outputs": [],
   "source": [
    "event_df.to_csv(os.path.join(save_path, 'event.csv'), index=False)\n",
    "sta_df.to_csv(os.path.join(save_path, 'station.csv'))"
   ]
  },
  {
   "cell_type": "code",
   "execution_count": null,
   "id": "efb7e7a1",
   "metadata": {},
   "outputs": [],
   "source": []
  }
 ],
 "metadata": {
  "kernelspec": {
   "display_name": "Earthworm",
   "language": "python",
   "name": "earthworm"
  },
  "language_info": {
   "codemirror_mode": {
    "name": "ipython",
    "version": 3
   },
   "file_extension": ".py",
   "mimetype": "text/x-python",
   "name": "python",
   "nbconvert_exporter": "python",
   "pygments_lexer": "ipython3",
   "version": "3.8.6"
  }
 },
 "nbformat": 4,
 "nbformat_minor": 5
}
