{
 "cells": [
  {
   "cell_type": "code",
   "execution_count": 5,
   "id": "045b8c5e",
   "metadata": {},
   "outputs": [],
   "source": [
    "import numpy as np\n",
    "import os\n",
    "import glob\n",
    "import random\n",
    "import json\n",
    "import matplotlib.pyplot as plt\n",
    "from obspy import read\n",
    "from datetime import datetime, timedelta\n",
    "from tqdm import tqdm"
   ]
  },
  {
   "cell_type": "code",
   "execution_count": 106,
   "id": "365f57bf",
   "metadata": {},
   "outputs": [],
   "source": [
    "# 取得某個階段的所有檔名\n",
    "def find_wave(year, month, day, hour, minute, sec, wave_path, waveFile):\n",
    "    month = str(month) if month//10==1 else '0'+str(month)\n",
    "    day = '0'+str(day) if day//10==0 else str(day)\n",
    "    \n",
    "    target = wave_path + '/' + str(year)+month+day + '*/' + waveFile    \n",
    "\n",
    "    result = glob.glob(target)\n",
    "    print(result)\n",
    "    if len(result) > 1:\n",
    "        hour = '0'+str(hour) if hour//10==0 else str(hour)\n",
    "        minute = '0'+str(minute) if minute//10==0 else str(minute)\n",
    "        sec = '0'+str(sec) if sec//10==0 else str(sec)\n",
    "        \n",
    "        result = glob.glob(wave_path + '/' + str(year)+month+day + '*/' + waveFile  )\n",
    "    return "
   ]
  },
  {
   "cell_type": "code",
   "execution_count": 7,
   "id": "cd9cf756",
   "metadata": {},
   "outputs": [],
   "source": [
    "def getFolder(year, month, day, hour, minute, sec):\n",
    "    month = str(month) if month/10>=1 else '0'+str(month)\n",
    "    day = str(day) if day/10>=1 else '0'+str(day)\n",
    "    hour = str(hour) if hour/10>=1 else '0'+str(hour)\n",
    "    minute = str(minute) if minute/10>=1 else '0'+str(minute)\n",
    "    sec = str(sec) if sec/10>=1 else '0'+str(sec)\n",
    "    \n",
    "    return str(year)+month+day+'_'+hour+minute+sec"
   ]
  },
  {
   "cell_type": "code",
   "execution_count": 145,
   "id": "ccb2a87d",
   "metadata": {},
   "outputs": [],
   "source": [
    "def getWavFile(infile, root_path):\n",
    "    \n",
    "    with open(infile) as f:\n",
    "        lines = f.readlines()\n",
    "        \n",
    "    adict = {}\n",
    "    adict['network'] = infile[-7:-4]\n",
    "    adict['RecordLength(sec)'] = float(lines[3][-9:])\n",
    "    adict['sampling_rate'] = int(lines[4][-5:])\n",
    "    adict['datatype'] = 'Acceleration'\n",
    "    \n",
    "    return adict\n",
    "\n",
    "    # load waveform\n",
    "#     z, n, e = [], [], []\n",
    "#     for i in lines[11:]:\n",
    "#         z.append(float(i[14:20]))\n",
    "#         n.append(float(i[24:30]))\n",
    "#         e.append(float(i[34:40]))\n",
    "        \n",
    "#     z, n, e = np.array(z), np.array(n), np.array(e)\n",
    "    \n",
    "    # write to txt\n",
    "#     filepath = os.path.join(root_path, 'test')\n",
    "#     print(filepath)\n",
    "#     with open(filepath+'.txt', 'w') as file:\n",
    "#         file.write('\\tZ\\tN\\tE\\n')\n",
    "#         for i in range(z.shape[0]):\n",
    "#             file.write('\\t{}\\t{}\\t{}\\n'.format(z[i], n[i], e[i]))\n",
    "\n",
    "#     return z, n, e, adict['sampling_rate']"
   ]
  },
  {
   "cell_type": "code",
   "execution_count": 9,
   "id": "eb6d23d8",
   "metadata": {},
   "outputs": [],
   "source": [
    "def genDuration(start, ptime, stime, sample_rate, length):\n",
    "    # time: str -> datetime.datetime\n",
    "    start, ptime, stime = toTime(start), toTime(ptime), toTime(stime)\n",
    "    \n",
    "    # ptime, stime 減去儀器開始時間，以得到具體在哪個 sample point\n",
    "    diff_p, diff_s = ptime-start, stime-start\n",
    "    sec_diff_p, microsec_diff_p = diff_p.seconds, diff_p.microseconds\n",
    "    sec_diff_s, microsec_diff_s = diff_s.seconds, diff_s.microseconds\n",
    "    \n",
    "    p_trigger_sample = int((sec_diff_p+microsec_diff_p/1e+5)*sample_rate)\n",
    "    s_trigger_sample = int((sec_diff_s+microsec_diff_s/1e+5)*sample_rate)\n",
    "   \n",
    "    # 生成 ground-truth\n",
    "    gt = np.zeros(length)\n",
    "    gt[p_trigger_sample:s_trigger_sample] = 1\n",
    "    \n",
    "    return gt"
   ]
  },
  {
   "cell_type": "code",
   "execution_count": 10,
   "id": "0b331831",
   "metadata": {},
   "outputs": [],
   "source": [
    "def toTime(time):\n",
    "    year, month, day = int(time[:4]), int(time[5:7]), int(time[8:10])\n",
    "    hour, minute, second = int(time[11:13]), int(time[14:16]), int(time[17:19])\n",
    "\n",
    "    if len(time) > 19:\n",
    "        microsec = int(time[20:-1])\n",
    "        return datetime(year, month, day, hour, minute, second, microsec)\n",
    "    else:\n",
    "        return datetime(year, month, day, hour, minute, second)\n",
    "    \n",
    "def fileTime(time):\n",
    "    year, month, day = time[:4], time[5:7], time[8:10]\n",
    "    hour, minute, second = time[11:13], time[14:16], time[17:19]\n",
    "    \n",
    "    return year+month+day+hour+minute+second"
   ]
  },
  {
   "cell_type": "code",
   "execution_count": 11,
   "id": "44b33415",
   "metadata": {},
   "outputs": [],
   "source": [
    "def toCSV(z, n, e, gt, ori_time, station, root_save_path):\n",
    "    to_write = np.vstack((e, n, z, gt))\n",
    "    ori_time = fileTime(ori_time)\n",
    "   \n",
    "    # filename: 地震發生時間 + 測站名 + 儀器種類\n",
    "    file_name = ori_time + '_' + station\n",
    "    save_path = os.path.join(root_save_path, file_name)\n",
    "#     print(save_path)\n",
    "    np.savetxt(save_path+'.csv', to_write, delimiter=',')"
   ]
  },
  {
   "cell_type": "code",
   "execution_count": 175,
   "id": "bac19330",
   "metadata": {},
   "outputs": [],
   "source": [
    "def unpackP(infile, root_path, wave_path):\n",
    "    with open(infile) as f:\n",
    "        lines = f.readlines()\n",
    "    \n",
    "    # ================================ header ================================= #\n",
    "    tmp = lines[0]\n",
    "    year = int(tmp[1:5])\n",
    "    month = int(tmp[5:7])\n",
    "    day = int(tmp[7:9])\n",
    "    hour = int(tmp[9:11])\n",
    "    minute = int(tmp[11:13])\n",
    "    sec = float(tmp[13:19])\n",
    "    dt = datetime(year,month,day,hour,minute,int(sec//1),int(sec%1 * 1000000))\n",
    "    \n",
    "    lat = int(tmp[19:21])\n",
    "    lat_m = float(tmp[21:26])\n",
    "    lon = int(tmp[26:29])\n",
    "    lon_m = float(tmp[29:34])\n",
    "   \n",
    "    lat+=lat_m/60\n",
    "    lat=round(lat,2)\n",
    "    lon+=lon_m/60\n",
    "    lon=round(lon,2)\n",
    "    \n",
    "    depth = float(tmp[34:40])\n",
    "    mag = float(tmp[40:44])\n",
    "    n_sta = int(tmp[-4:])+1\n",
    "    \n",
    "    pfile_info = {}\n",
    "    pfile_info[\"ori_time\"] = str(dt)\n",
    "    pfile_info[\"depth\"] = depth\n",
    "    pfile_info[\"mag\"] = mag\n",
    "    pfile_info[\"lat\"] = lat\n",
    "    pfile_info[\"lon\"] = lon\n",
    "    # ================================ header ================================= #\n",
    "    # ================================= body ================================== #\n",
    "    for i in range(1, n_sta):\n",
    "        tmp = lines[i]\n",
    "        sta = tmp[:7].strip()\n",
    "        \n",
    "        try:\n",
    "            pdict = {}\n",
    "            adict = {}\n",
    "            \n",
    "            starttime = datetime(year=int(tmp[84:88]), month=int(tmp[88:90]), day=int(tmp[90:92]), hour=int(tmp[92:94]),\n",
    "                                         minute=int(tmp[94:96]), second=int(tmp[96:98]), microsecond=int(tmp[99:101]))\n",
    "            pdict['starttime'] = str(starttime)\n",
    "            pdict['distance'] = float(tmp[8:14])\n",
    "            pdict['Azimuth'] = int(tmp[14:17])\n",
    "            pdict['p_polar'] = str(tmp[21])\n",
    "            pdict['p_arrival_time'] = str(starttime + timedelta(seconds=float(tmp[23:30])))\n",
    "            pdict['p_weight'] = int(tmp[31])\n",
    "            pdict['s_arrival_time'] = str(starttime + timedelta(seconds=float(tmp[33:40])))\n",
    "            pdict['s_weight'] = int(tmp[41])\n",
    "            pdict['station_lat'] = float(tmp[42:50])\n",
    "            pdict['station_lon'] = float(tmp[50:57])\n",
    "            \n",
    "            if pdict['p_polar'] == ' ':\n",
    "                pdict['p_polar'] = 'unknown' \n",
    "                \n",
    "            # instrument status\n",
    "            if tmp[80] == '1':\n",
    "                pdict['Z'] = False\n",
    "            else:\n",
    "                pdict['Z'] = True\n",
    "                \n",
    "            if tmp[81] == '1':\n",
    "                pdict['N'] = False\n",
    "            else:\n",
    "                pdict['N'] = True\n",
    "            \n",
    "            if tmp[82] == '1':\n",
    "                pdict['E'] = False\n",
    "            else:\n",
    "                pdict['E'] = True\n",
    "            \n",
    "            # 0: normal, 1: 可能有錯誤，但波型還是可以用, 2: 沒辦法判斷時間系統有沒有問題\n",
    "            if tmp[83] == '!':\n",
    "                pdict['time_system'] = 0\n",
    "            elif tmp[83] == '*':\n",
    "                pdict['time_system'] = 1\n",
    "            elif tmp[83] == ' ':\n",
    "                pdict['time_system'] = 2\n",
    "                \n",
    "            # 只挑完美的 waveform\n",
    "#             if not pdict['Z'] or not pdict['N'] or not pdict['E'] and pdict['time_system'] != 0:\n",
    "#                 continue\n",
    "                \n",
    "            # Store wave file\n",
    "            waveFile = sta + '_' + tmp[63:75].strip() + '.txt'\n",
    "            wave = find_wave(year, month, day, hour, minute, sec, wave_path, waveFile)\n",
    "            \n",
    "            # 找不到波型檔案\n",
    "            if not wave:\n",
    "                pdict['numberOfData'] = 0\n",
    "            else:\n",
    "                adict = getWavFile(wave, root_path)\n",
    "                pdict['waveFile'] = wave\n",
    "                pdict['0'] = adict   \n",
    "                pdict['numberOfData'] = 1\n",
    "                \n",
    "                \n",
    "            # write into csv file\n",
    "#             gt = genDuration(pdict['starttime'], pdict['p_arrival_time'], pdict['s_arrival_time'], sample_rate, z.shape[0])\n",
    "\n",
    "            #toCSV(z, n, e, gt, pfile_info[\"ori_time\"], sta, '/mnt/nas7/weiwei/earthquake_RNN/newTrain/seis')\n",
    "#             draw(z, n, e, gt)\n",
    "            \n",
    "        except Exception as e:\n",
    "            print(e)\n",
    "#             pass\n",
    "\n",
    "        pfile_info[sta] = pdict\n",
    "    \n",
    "    return pfile_info"
   ]
  },
  {
   "cell_type": "code",
   "execution_count": 57,
   "id": "188caf3a",
   "metadata": {},
   "outputs": [],
   "source": [
    "def draw(z, n, e, gt):\n",
    "    plt.figure(figsize=(35, 25))\n",
    "    plt.subplot(411)\n",
    "    plt.title('Z')\n",
    "    plt.plot(z)\n",
    "    \n",
    "    plt.subplot(412)\n",
    "    plt.title('N')\n",
    "    plt.plot(n)\n",
    "    \n",
    "    plt.subplot(413)\n",
    "    plt.title('E')\n",
    "    plt.plot(e)\n",
    "    \n",
    "    plt.subplot(414)\n",
    "    plt.title('GT')\n",
    "    plt.plot(gt)\n",
    "    plt.show()"
   ]
  },
  {
   "cell_type": "code",
   "execution_count": 189,
   "id": "62b6b0ae",
   "metadata": {},
   "outputs": [
    {
     "name": "stdout",
     "output_type": "stream",
     "text": [
      "creating path:  /mnt/nas6/TSMIP/2012\n"
     ]
    },
    {
     "name": "stderr",
     "output_type": "stream",
     "text": [
      " 75%|████████████████████████████████████████████████████████████████████████████████▌                           | 905/1214 [02:42<00:28, 10.72it/s]"
     ]
    },
    {
     "name": "stdout",
     "output_type": "stream",
     "text": [
      "month must be in 1..12\n"
     ]
    },
    {
     "name": "stderr",
     "output_type": "stream",
     "text": [
      "100%|███████████████████████████████████████████████████████████████████████████████████████████████████████████| 1214/1214 [04:00<00:00,  5.05it/s]\n"
     ]
    },
    {
     "name": "stdout",
     "output_type": "stream",
     "text": [
      "creating path:  /mnt/nas6/TSMIP/2013\n"
     ]
    },
    {
     "name": "stderr",
     "output_type": "stream",
     "text": [
      " 15%|███████████████▊                                                                                            | 449/3058 [00:59<05:31,  7.87it/s]"
     ]
    },
    {
     "name": "stdout",
     "output_type": "stream",
     "text": [
      "list index out of range\n",
      "list index out of range\n",
      "list index out of range\n",
      "list index out of range\n",
      "list index out of range\n",
      "list index out of range\n",
      "list index out of range\n",
      "list index out of range\n"
     ]
    },
    {
     "name": "stderr",
     "output_type": "stream",
     "text": [
      " 17%|██████████████████                                                                                          | 513/3058 [01:06<05:13,  8.11it/s]"
     ]
    },
    {
     "name": "stdout",
     "output_type": "stream",
     "text": [
      "month must be in 1..12\n"
     ]
    },
    {
     "name": "stderr",
     "output_type": "stream",
     "text": [
      " 20%|█████████████████████▊                                                                                      | 618/3058 [01:31<06:29,  6.26it/s]"
     ]
    },
    {
     "name": "stdout",
     "output_type": "stream",
     "text": [
      "month must be in 1..12\n"
     ]
    },
    {
     "name": "stderr",
     "output_type": "stream",
     "text": [
      "100%|███████████████████████████████████████████████████████████████████████████████████████████████████████████| 3058/3058 [06:15<00:00,  8.14it/s]\n"
     ]
    },
    {
     "name": "stdout",
     "output_type": "stream",
     "text": [
      "creating path:  /mnt/nas6/TSMIP/2014\n"
     ]
    },
    {
     "name": "stderr",
     "output_type": "stream",
     "text": [
      " 10%|██████████▎                                                                                                 | 122/1271 [00:22<02:21,  8.11it/s]"
     ]
    },
    {
     "name": "stdout",
     "output_type": "stream",
     "text": [
      "hour must be in 0..23\n"
     ]
    },
    {
     "name": "stderr",
     "output_type": "stream",
     "text": [
      " 33%|███████████████████████████████████▍                                                                        | 417/1271 [01:19<06:09,  2.31it/s]"
     ]
    },
    {
     "name": "stdout",
     "output_type": "stream",
     "text": [
      "hour must be in 0..23\n"
     ]
    },
    {
     "name": "stderr",
     "output_type": "stream",
     "text": [
      "100%|███████████████████████████████████████████████████████████████████████████████████████████████████████████| 1271/1271 [04:10<00:00,  5.08it/s]\n"
     ]
    },
    {
     "name": "stdout",
     "output_type": "stream",
     "text": [
      "creating path:  /mnt/nas6/TSMIP/2015\n"
     ]
    },
    {
     "name": "stderr",
     "output_type": "stream",
     "text": [
      "100%|███████████████████████████████████████████████████████████████████████████████████████████████████████████| 1776/1776 [06:32<00:00,  4.53it/s]\n"
     ]
    },
    {
     "name": "stdout",
     "output_type": "stream",
     "text": [
      "creating path:  /mnt/nas6/TSMIP/2016\n"
     ]
    },
    {
     "name": "stderr",
     "output_type": "stream",
     "text": [
      "100%|███████████████████████████████████████████████████████████████████████████████████████████████████████████| 2170/2170 [08:16<00:00,  4.37it/s]\n"
     ]
    },
    {
     "name": "stdout",
     "output_type": "stream",
     "text": [
      "creating path:  /mnt/nas6/TSMIP/2017\n"
     ]
    },
    {
     "name": "stderr",
     "output_type": "stream",
     "text": [
      "100%|███████████████████████████████████████████████████████████████████████████████████████████████████████████| 1183/1183 [04:59<00:00,  3.95it/s]\n"
     ]
    },
    {
     "name": "stdout",
     "output_type": "stream",
     "text": [
      "creating path:  /mnt/nas6/TSMIP/2018\n"
     ]
    },
    {
     "name": "stderr",
     "output_type": "stream",
     "text": [
      "100%|███████████████████████████████████████████████████████████████████████████████████████████████████████████| 3560/3560 [14:09<00:00,  4.19it/s]\n"
     ]
    },
    {
     "name": "stdout",
     "output_type": "stream",
     "text": [
      "creating path:  /mnt/nas6/TSMIP/2019\n"
     ]
    },
    {
     "name": "stderr",
     "output_type": "stream",
     "text": [
      "  4%|████▍                                                                                                        | 69/1696 [00:28<11:22,  2.38it/s]\n"
     ]
    },
    {
     "ename": "ValueError",
     "evalue": "second must be in 0..59",
     "output_type": "error",
     "traceback": [
      "\u001b[0;31m---------------------------------------------------------------------------\u001b[0m",
      "\u001b[0;31mValueError\u001b[0m                                Traceback (most recent call last)",
      "\u001b[0;32m/tmp/ipykernel_30212/1312756857.py\u001b[0m in \u001b[0;36m<module>\u001b[0;34m\u001b[0m\n\u001b[1;32m     16\u001b[0m             \u001b[0mversion\u001b[0m \u001b[0;34m=\u001b[0m \u001b[0;34m'0'\u001b[0m\u001b[0;34m\u001b[0m\u001b[0;34m\u001b[0m\u001b[0m\n\u001b[1;32m     17\u001b[0m \u001b[0;34m\u001b[0m\u001b[0m\n\u001b[0;32m---> 18\u001b[0;31m         \u001b[0mp\u001b[0m \u001b[0;34m=\u001b[0m \u001b[0munpackP\u001b[0m\u001b[0;34m(\u001b[0m\u001b[0mos\u001b[0m\u001b[0;34m.\u001b[0m\u001b[0mpath\u001b[0m\u001b[0;34m.\u001b[0m\u001b[0mjoin\u001b[0m\u001b[0;34m(\u001b[0m\u001b[0mroot_path\u001b[0m\u001b[0;34m,\u001b[0m \u001b[0mfile\u001b[0m\u001b[0;34m)\u001b[0m\u001b[0;34m,\u001b[0m \u001b[0mroot_path\u001b[0m\u001b[0;34m,\u001b[0m \u001b[0mwave_path\u001b[0m\u001b[0;34m)\u001b[0m\u001b[0;34m\u001b[0m\u001b[0;34m\u001b[0m\u001b[0m\n\u001b[0m\u001b[1;32m     19\u001b[0m \u001b[0;34m\u001b[0m\u001b[0m\n\u001b[1;32m     20\u001b[0m         \u001b[0;32mwith\u001b[0m \u001b[0mopen\u001b[0m\u001b[0;34m(\u001b[0m\u001b[0mos\u001b[0m\u001b[0;34m.\u001b[0m\u001b[0mpath\u001b[0m\u001b[0;34m.\u001b[0m\u001b[0mjoin\u001b[0m\u001b[0;34m(\u001b[0m\u001b[0msave_path\u001b[0m\u001b[0;34m,\u001b[0m \u001b[0mfile\u001b[0m\u001b[0;34m[\u001b[0m\u001b[0;34m:\u001b[0m\u001b[0;36m8\u001b[0m\u001b[0;34m]\u001b[0m\u001b[0;34m)\u001b[0m\u001b[0;34m+\u001b[0m\u001b[0;34m'('\u001b[0m\u001b[0;34m+\u001b[0m\u001b[0mversion\u001b[0m\u001b[0;34m+\u001b[0m\u001b[0;34m').json'\u001b[0m\u001b[0;34m,\u001b[0m \u001b[0;34m'w'\u001b[0m\u001b[0;34m)\u001b[0m \u001b[0;32mas\u001b[0m \u001b[0mf\u001b[0m\u001b[0;34m:\u001b[0m\u001b[0;34m\u001b[0m\u001b[0;34m\u001b[0m\u001b[0m\n",
      "\u001b[0;32m/tmp/ipykernel_30212/1749347403.py\u001b[0m in \u001b[0;36munpackP\u001b[0;34m(infile, root_path, wave_path)\u001b[0m\n\u001b[1;32m     11\u001b[0m     \u001b[0mminute\u001b[0m \u001b[0;34m=\u001b[0m \u001b[0mint\u001b[0m\u001b[0;34m(\u001b[0m\u001b[0mtmp\u001b[0m\u001b[0;34m[\u001b[0m\u001b[0;36m11\u001b[0m\u001b[0;34m:\u001b[0m\u001b[0;36m13\u001b[0m\u001b[0;34m]\u001b[0m\u001b[0;34m)\u001b[0m\u001b[0;34m\u001b[0m\u001b[0;34m\u001b[0m\u001b[0m\n\u001b[1;32m     12\u001b[0m     \u001b[0msec\u001b[0m \u001b[0;34m=\u001b[0m \u001b[0mfloat\u001b[0m\u001b[0;34m(\u001b[0m\u001b[0mtmp\u001b[0m\u001b[0;34m[\u001b[0m\u001b[0;36m13\u001b[0m\u001b[0;34m:\u001b[0m\u001b[0;36m19\u001b[0m\u001b[0;34m]\u001b[0m\u001b[0;34m)\u001b[0m\u001b[0;34m\u001b[0m\u001b[0;34m\u001b[0m\u001b[0m\n\u001b[0;32m---> 13\u001b[0;31m     \u001b[0mdt\u001b[0m \u001b[0;34m=\u001b[0m \u001b[0mdatetime\u001b[0m\u001b[0;34m(\u001b[0m\u001b[0myear\u001b[0m\u001b[0;34m,\u001b[0m\u001b[0mmonth\u001b[0m\u001b[0;34m,\u001b[0m\u001b[0mday\u001b[0m\u001b[0;34m,\u001b[0m\u001b[0mhour\u001b[0m\u001b[0;34m,\u001b[0m\u001b[0mminute\u001b[0m\u001b[0;34m,\u001b[0m\u001b[0mint\u001b[0m\u001b[0;34m(\u001b[0m\u001b[0msec\u001b[0m\u001b[0;34m//\u001b[0m\u001b[0;36m1\u001b[0m\u001b[0;34m)\u001b[0m\u001b[0;34m,\u001b[0m\u001b[0mint\u001b[0m\u001b[0;34m(\u001b[0m\u001b[0msec\u001b[0m\u001b[0;34m%\u001b[0m\u001b[0;36m1\u001b[0m \u001b[0;34m*\u001b[0m \u001b[0;36m1000000\u001b[0m\u001b[0;34m)\u001b[0m\u001b[0;34m)\u001b[0m\u001b[0;34m\u001b[0m\u001b[0;34m\u001b[0m\u001b[0m\n\u001b[0m\u001b[1;32m     14\u001b[0m \u001b[0;34m\u001b[0m\u001b[0m\n\u001b[1;32m     15\u001b[0m     \u001b[0mlat\u001b[0m \u001b[0;34m=\u001b[0m \u001b[0mint\u001b[0m\u001b[0;34m(\u001b[0m\u001b[0mtmp\u001b[0m\u001b[0;34m[\u001b[0m\u001b[0;36m19\u001b[0m\u001b[0;34m:\u001b[0m\u001b[0;36m21\u001b[0m\u001b[0;34m]\u001b[0m\u001b[0;34m)\u001b[0m\u001b[0;34m\u001b[0m\u001b[0;34m\u001b[0m\u001b[0m\n",
      "\u001b[0;31mValueError\u001b[0m: second must be in 0..59"
     ]
    }
   ],
   "source": [
    "all_year = ['2012', '2013', '2014', '2015', '2016', '2017', '2018', '2019', '2020']\n",
    "\n",
    "for year in all_year:\n",
    "    root_path = \"/mnt/nas6/ori_TSMIP/event_info/\" + year\n",
    "    wave_path = \"/mnt/nas6/ori_TSMIP/event_info/wave\"\n",
    "    save_path = '/mnt/nas6/TSMIP/'+year\n",
    "    files = os.listdir(root_path)\n",
    "\n",
    "    if not os.path.exists(save_path):\n",
    "        print('creating path: ', save_path)\n",
    "        os.mkdir(save_path)\n",
    "\n",
    "    for file in tqdm(files):\n",
    "        version = file[-1]\n",
    "        if version == 'P':\n",
    "            version = '0'\n",
    "\n",
    "        p = unpackP(os.path.join(root_path, file), root_path, wave_path)\n",
    "\n",
    "        with open(os.path.join(save_path, file[:8])+'('+version+').json', 'w') as f:\n",
    "            json.dump(p, f)"
   ]
  },
  {
   "cell_type": "code",
   "execution_count": 131,
   "id": "bdf438f5",
   "metadata": {},
   "outputs": [],
   "source": [
    "# 取得某個階段的所有檔名\n",
    "def find_wave(year, month, day, hour, minute, sec, wave_path, waveFile):\n",
    "    month = str(month) if month//10==1 else '0'+str(month)\n",
    "    day = '0'+str(day) if day//10==0 else str(day)\n",
    "    \n",
    "    target = wave_path + '/' + str(year)+month+day + '*/' + waveFile    \n",
    "\n",
    "    result = glob.glob(target)\n",
    "    \n",
    "    if len(result) > 1 or len(result) == 0:\n",
    "        hour = '0'+str(hour) if hour//10==0 else str(hour)\n",
    "        minute = '0'+str(minute) if minute//10==0 else str(minute)\n",
    "        sec = '0'+str(sec) if sec//10==0 else str(sec)\n",
    "        sec = sec[:2]\n",
    "        \n",
    "        result = glob.glob(wave_path + '/' + str(year)+month+day+'_'+hour+minute+sec + '/' + waveFile)\n",
    "#         print('target: ',wave_path + '/' + str(year)+month+day+'_'+hour+minute+sec + '/' + waveFile)\n",
    "#         print('sec result: ', result)\n",
    "\n",
    "    if len(result) == 0:\n",
    "        return \n",
    "    \n",
    "    return result[0]"
   ]
  },
  {
   "cell_type": "code",
   "execution_count": null,
   "id": "9f79076f",
   "metadata": {},
   "outputs": [],
   "source": []
  }
 ],
 "metadata": {
  "kernelspec": {
   "display_name": "Earthworm",
   "language": "python",
   "name": "earthworm"
  },
  "language_info": {
   "codemirror_mode": {
    "name": "ipython",
    "version": 3
   },
   "file_extension": ".py",
   "mimetype": "text/x-python",
   "name": "python",
   "nbconvert_exporter": "python",
   "pygments_lexer": "ipython3",
   "version": "3.8.6"
  }
 },
 "nbformat": 4,
 "nbformat_minor": 5
}
