{
 "cells": [
  {
   "cell_type": "code",
   "execution_count": 85,
   "id": "dbf15523",
   "metadata": {},
   "outputs": [],
   "source": [
    "import numpy as np\n",
    "import json\n",
    "import os\n",
    "import glob\n",
    "import matplotlib.pyplot as plt\n",
    "from tqdm import tqdm\n",
    "from scipy.signal import butter, filtfilt\n",
    "from scipy import integrate\n",
    "from scipy.signal import sosfilt, iirfilter, zpk2sos"
   ]
  },
  {
   "cell_type": "markdown",
   "id": "085a87a2",
   "metadata": {},
   "source": [
    "## High pass filter"
   ]
  },
  {
   "cell_type": "code",
   "execution_count": 37,
   "id": "3359fdb4",
   "metadata": {},
   "outputs": [],
   "source": [
    "def highpass(data, freq, df, corners=4, zerophase=False):\n",
    "    fe = 0.5 * df\n",
    "    f = freq / fe\n",
    "    \n",
    "    z, p, k = iirfilter(corners, f, btype='highpass', ftype='butter', output='zpk')\n",
    "    sos = zpk2sos(z, p, k)\n",
    "    if zerophase:\n",
    "        firstpass = sosfilt(sos, data)\n",
    "        return sosfilt(sos, firstpass[::-1])[::-1]\n",
    "    else:\n",
    "        return sosfilt(sos, data)"
   ]
  },
  {
   "cell_type": "markdown",
   "id": "215b5dbf",
   "metadata": {},
   "source": [
    "## Low pass filter"
   ]
  },
  {
   "cell_type": "code",
   "execution_count": 38,
   "id": "05339f94",
   "metadata": {},
   "outputs": [],
   "source": [
    "def lowpass(data, freq, df, corners=4, zerophase=False):\n",
    "    fe = 0.5 * df\n",
    "    f = freq / fe\n",
    "    \n",
    "    z, p, k = iirfilter(corners, f, btype='lowpass', ftype='butter', output='zpk')\n",
    "    sos = zpk2sos(z, p, k)\n",
    "    if zerophase:\n",
    "        firstpass = sosfilt(sos, data)\n",
    "        return sosfilt(sos, firstpass[::-1])[::-1]\n",
    "    else:\n",
    "        return sosfilt(sos, data)"
   ]
  },
  {
   "cell_type": "markdown",
   "id": "4fa594ac",
   "metadata": {},
   "source": [
    "## 微分: 速度 -> 加速度"
   ]
  },
  {
   "cell_type": "code",
   "execution_count": 39,
   "id": "3ce55547",
   "metadata": {},
   "outputs": [],
   "source": [
    "# 速度微分 -> 加速度\n",
    "# 100.0: sampling_rate\n",
    "def v_to_a(z, n, e, sample_rate):\n",
    "    d_z = np.gradient(z, 1.0/sample_rate)\n",
    "    d_n = np.gradient(n, 1.0/sample_rate)\n",
    "    d_e = np.gradient(e, 1.0/sample_rate)\n",
    "\n",
    "    return d_z, d_n, d_e"
   ]
  },
  {
   "cell_type": "markdown",
   "id": "7956b884",
   "metadata": {},
   "source": [
    "## 積分: 加速度 -> 速度"
   ]
  },
  {
   "cell_type": "code",
   "execution_count": 40,
   "id": "27806529",
   "metadata": {},
   "outputs": [],
   "source": [
    "# 加速度積分 -> 速度\n",
    "# 100.0: sampling_rate\n",
    "def a_to_v(z, n, e, sample_rate):\n",
    "    i_z = integrate.cumtrapz(z)/sample_rate\n",
    "    i_n = integrate.cumtrapz(n)/sample_rate\n",
    "    i_e = integrate.cumtrapz(e)/sample_rate\n",
    "    \n",
    "    return i_z, i_n, i_e"
   ]
  },
  {
   "cell_type": "markdown",
   "id": "3d25209d",
   "metadata": {},
   "source": [
    "## 計算 PGA"
   ]
  },
  {
   "cell_type": "code",
   "execution_count": 41,
   "id": "13ecebb2",
   "metadata": {},
   "outputs": [],
   "source": [
    "def calc_pga(z, n, e, waveType, sample_rate):\n",
    "    # 檢查波形是 速度 or 加速度\n",
    "    if waveType == 'Velocity':\n",
    "        z, n, e = v_to_a(z, n, e, sample_rate)\n",
    "        \n",
    "    # 10Hz low pass filter\n",
    "    z = lowpass(z, 10, sample_rate)\n",
    "    n = lowpass(n, 10, sample_rate)\n",
    "    e = lowpass(e, 10, sample_rate)\n",
    "    \n",
    "    # 合成震波\n",
    "    acc = np.sqrt(z**2+n**2+e**2)\n",
    "    \n",
    "    # Max=PGA\n",
    "    pga = max(acc)\n",
    "    pga_z = max(z)\n",
    "    pga_n = max(n)\n",
    "    pga_e = max(e)\n",
    "    \n",
    "    return pga, pga_z, pga_n, pga_e"
   ]
  },
  {
   "cell_type": "markdown",
   "id": "15cc0fb7",
   "metadata": {},
   "source": [
    "## 用 PGA 計算震度 (震度四級以下)"
   ]
  },
  {
   "cell_type": "code",
   "execution_count": 42,
   "id": "c04edc8b",
   "metadata": {},
   "outputs": [],
   "source": [
    "def pga_to_intensity(pga):\n",
    "    if pga < 0.8:\n",
    "        return 0\n",
    "    elif pga >= 0.8 and pga < 2.5:\n",
    "        return 1\n",
    "    elif pga >= 2.5 and pga < 8.0:\n",
    "        return 2\n",
    "    elif pga >= 8.0 and pga < 25.0:\n",
    "        return 3\n",
    "    elif pga >= 25.0 and pga < 80.0:\n",
    "        return 4\n",
    "    else:\n",
    "        return 5"
   ]
  },
  {
   "cell_type": "markdown",
   "id": "3fa8490c",
   "metadata": {},
   "source": [
    "## 計算 PGV"
   ]
  },
  {
   "cell_type": "code",
   "execution_count": 43,
   "id": "2a523d36",
   "metadata": {},
   "outputs": [],
   "source": [
    "def calc_pgv(z, n, e, waveType, sample_rate):\n",
    "    # 檢查波形是 速度 or 加速度\n",
    "    if waveType == 'Acceleration':\n",
    "        z, n, e = a_to_v(z, n, e, sample_rate)\n",
    " \n",
    "    # 0.075Hz high pass filter\n",
    "    z = highpass(z, 0.075, sample_rate)\n",
    "    n = highpass(n, 0.075, sample_rate)\n",
    "    e = highpass(e, 0.075, sample_rate)\n",
    "        \n",
    "    # 合成震波\n",
    "    acc = np.sqrt(z**2+n**2+e**2)\n",
    "    \n",
    "    # Max=PGV\n",
    "    pgv = max(acc)\n",
    "    pgv_z = max(z)\n",
    "    pgv_n = max(n)\n",
    "    pgv_e = max(e)\n",
    "    \n",
    "    return pgv, pgv_z, pgv_n, pgv_e"
   ]
  },
  {
   "cell_type": "markdown",
   "id": "da9fbc9e",
   "metadata": {},
   "source": [
    "## 用 PGV 計算震度(震度五級以上)"
   ]
  },
  {
   "cell_type": "code",
   "execution_count": 44,
   "id": "6ee1b79b",
   "metadata": {},
   "outputs": [],
   "source": [
    "def pgv_to_intensity(pgv):\n",
    "    if pgv >= 15 and pgv < 30:\n",
    "        return \"5 weak\"\n",
    "    elif pgv >= 30 and pgv < 50:\n",
    "        return \"5 strong\"\n",
    "    elif pgv >= 50 and pgv < 80:\n",
    "        return \"6 weak\"\n",
    "    elif pgv >= 80 and pgv < 140:\n",
    "        return \"6 strong\"\n",
    "    elif pgv >= 140:\n",
    "        return '7'\n",
    "    else:\n",
    "        return '4'"
   ]
  },
  {
   "cell_type": "markdown",
   "id": "b21b3969",
   "metadata": {},
   "source": [
    "## 計算震度"
   ]
  },
  {
   "cell_type": "code",
   "execution_count": 45,
   "id": "3805cb02",
   "metadata": {},
   "outputs": [],
   "source": [
    "def calc_intensity(z, n, e, waveType, sample_rate):\n",
    "\n",
    "    # 物理量修正 (去平均)\n",
    "    z = z - np.mean(z)\n",
    "    n = n - np.mean(n)\n",
    "    e = e - np.mean(e)\n",
    "\n",
    "    # 先計算 PGA 檢查震度是否 > 5\n",
    "    pga, pga_z, pga_n, pga_e = calc_pga(z, n, e, waveType, sample_rate)\n",
    "    #print(f\"pgaZ:{pga_z}, pgaN:{pga_n}, pgaE: {pga_e}\")\n",
    "    \n",
    "    # 依照 pga 推測震度\n",
    "    intensity = pga_to_intensity(pga)\n",
    "    \n",
    "    pgv, pgv_z, pgv_n, pgv_e = calc_pgv(z, n, e, waveType, sample_rate)\n",
    "    #print(f\"pgvZ:{pgv_z}, pgvN:{pgv_n}, pgvE: {pgv_e}\")\n",
    "    \n",
    "    # 震度五級以上，則用 PGV 決定震度\n",
    "    if intensity == 5:    \n",
    "        # 依照 pgv 推測震度\n",
    "        intensity = pgv_to_intensity(pgv)\n",
    "    \n",
    "    intensity = str(intensity)\n",
    "    return intensity, pga, pgv"
   ]
  },
  {
   "cell_type": "markdown",
   "id": "49f1be21",
   "metadata": {},
   "source": [
    "## 修改數據"
   ]
  },
  {
   "cell_type": "code",
   "execution_count": 46,
   "id": "121cf0c3",
   "metadata": {},
   "outputs": [],
   "source": [
    "def modify(p):\n",
    "    for k in p.keys():\n",
    "        try:\n",
    "            # 看測站內有多少組波形資料\n",
    "            n_data = p[k]['numberOfData']\n",
    "            \n",
    "            for w in range(n_data):\n",
    "                # get Z, N, E, convert to ndarray\n",
    "                z, n, e = p[k][str(w)]['Z'], p[k][str(w)]['N'], p[k][str(w)]['E']\n",
    "                z, n, e = np.array(z), np.array(n), np.array(e)\n",
    "                \n",
    "                # multiply z, n, e by factor\n",
    "                z, n, e = z*p[k][str(w)]['factor'][0], n*p[k][str(w)]['factor'][1], e*p[k][str(w)]['factor'][2]\n",
    "                \n",
    "                # get the type of waveform: velocity or acceleration\n",
    "                waveType = p[k][str(w)]['datatype']\n",
    "                \n",
    "                # get the sampling rate\n",
    "                sampleRate = p[k][str(w)]['sampling_rate']\n",
    "                \n",
    "                intensity, pga, pgv = calc_intensity(z, n, e, waveType, sampleRate)\n",
    "                \n",
    "                p[k][str(w)]['intensity'] = intensity\n",
    "                p[k][str(w)]['pga'], p[k][str(w)]['pgv'] = round(pga, 2), round(pgv, 2)\n",
    "                p[k][str(w)]['DataAvailable']['intensity'] = True\n",
    "                p[k][str(w)]['DataAvailable']['pga'] = True\n",
    "                p[k][str(w)]['DataAvailable']['pgv'] = True\n",
    "                \n",
    "                #print(f\"station: {k}, distance: {p[k]['distance']}, intensity: {intensity}, pga: {pga}, pgv: {pgv},  waveType: {waveType}\")\n",
    "                \n",
    "                #draw(z, n, e)\n",
    "        except Exception as e:\n",
    "            #print(k, e)\n",
    "            pass\n",
    "    \n",
    "    return p"
   ]
  },
  {
   "cell_type": "code",
   "execution_count": 32,
   "id": "ebd7ad88",
   "metadata": {},
   "outputs": [],
   "source": [
    "def draw(z, n, e):\n",
    "    #plt.figure(figsize=(15, 10))\n",
    "    plt.subplot(311)\n",
    "    plt.plot(z)\n",
    "    \n",
    "    plt.subplot(312)\n",
    "    plt.plot(n)\n",
    "    \n",
    "    plt.subplot(313)\n",
    "    plt.plot(e)\n",
    "    plt.show()"
   ]
  },
  {
   "cell_type": "code",
   "execution_count": 71,
   "id": "a25280b8",
   "metadata": {},
   "outputs": [],
   "source": [
    "# 取得某個階段的所有檔名\n",
    "def get_filename(root_dir):\n",
    "    tmp = glob.glob(root_dir + '/*.json')\n",
    "        \n",
    "    return tmp"
   ]
  },
  {
   "cell_type": "markdown",
   "id": "21a910fc",
   "metadata": {},
   "source": [
    "## 指定路徑後，更改 json 裡面的數據"
   ]
  },
  {
   "cell_type": "markdown",
   "id": "427448b3",
   "metadata": {},
   "source": [
    "# finish: 2013, 2014, 2015, 2016, 2017, 2018, 2019\n",
    "year = '2017'\n",
    "root = \"/mnt/nas6/CWBSN/\"+year\n",
    "files = os.listdir(root)"
   ]
  },
  {
   "cell_type": "markdown",
   "id": "b43613bb",
   "metadata": {},
   "source": [
    "# 每個檔案都去修改\n",
    "for file in tqdm(files):\n",
    "    f = open(os.path.join(root, file), 'r')\n",
    "    p = json.load(f)\n",
    "    \n",
    "    p = modify(p)\n",
    "    \n",
    "    os.remove(os.path.join(root, file))\n",
    "    with open(os.path.join(root, file), 'w') as f:\n",
    "        json.dump(p, f)"
   ]
  },
  {
   "cell_type": "markdown",
   "id": "5ca3379c",
   "metadata": {},
   "source": [
    "# finish: 2020, 2021\n",
    "year = '2012'\n",
    "root = \"/mnt/nas6/CWBSN/\"+year\n",
    "files = get_filename(root)"
   ]
  },
  {
   "cell_type": "markdown",
   "id": "d6368c58",
   "metadata": {},
   "source": [
    "for file in tqdm(files):\n",
    "    f = open(os.path.join(root, file), 'r')\n",
    "    p = json.load(f)\n",
    "    \n",
    "    month = int(file[-16:-14])-12\n",
    "    month = str(month) if month//10==1 else '0'+str(month)\n",
    "    pk = year[-2:]+month+file[-14:-8]+file[-7]\n",
    "    p['event'] = pk\n",
    "    \n",
    "    p = modify_2020(p)\n",
    "    #p = modify_2012(p)\n",
    "    \n",
    "    os.remove(os.path.join(root, file))\n",
    "    with open(os.path.join(root, file), 'w') as f:\n",
    "        json.dump(p, f)"
   ]
  },
  {
   "cell_type": "markdown",
   "id": "f35f2ba6",
   "metadata": {},
   "source": [
    "## 2020以後，把新制的震度轉成 string 格式"
   ]
  },
  {
   "cell_type": "code",
   "execution_count": 58,
   "id": "455bd7f3",
   "metadata": {},
   "outputs": [],
   "source": [
    "def modify_2020(p):\n",
    "    for k in p.keys():\n",
    "        try:\n",
    "            # 看測站內有多少組波形資料\n",
    "            n_data = p[k]['numberOfData']\n",
    "\n",
    "            for w in range(n_data):\n",
    "                if p[k][str(w)]['pga'] >= 80:\n",
    "                    intensity = pgv_to_intensity(p[k][str(w)]['pgv'])\n",
    "                else:\n",
    "                    intensity = pga_to_intensity(p[k][str(w)]['pga'])\n",
    "\n",
    "                p[k][str(w)]['intensity'] = str(intensity)\n",
    "                p[k][str(w)]['DataAvailable']['intensity'] = True\n",
    "                p[k][str(w)]['DataAvailable']['pga'] = True\n",
    "                p[k][str(w)]['DataAvailable']['pgv'] = True\n",
    "                #print(f\"station: {k}, distance: {p[k]['distance']}, intensity: {intensity}, pga: {pga}, pgv: {pgv},  waveType: {waveType}\")\n",
    "\n",
    "                #draw(z, n, e)\n",
    "        except Exception as e:\n",
    "            #print(k, e)\n",
    "            pass\n",
    "\n",
    "    return p"
   ]
  },
  {
   "cell_type": "markdown",
   "id": "e0467af4",
   "metadata": {},
   "source": [
    "## 2012年轉新制震度"
   ]
  },
  {
   "cell_type": "code",
   "execution_count": 86,
   "id": "20fe6f54",
   "metadata": {},
   "outputs": [],
   "source": [
    "def readWave(path):\n",
    "    with open(path, 'r')as f:\n",
    "        tmp = f.readlines()\n",
    "\n",
    "    z, n, e = [], [], []\n",
    "    for i in tmp[1:]:\n",
    "        value = i.split()\n",
    "\n",
    "        z.append(value[0])\n",
    "        n.append(value[1])\n",
    "        e.append(value[2])\n",
    "        \n",
    "    z, n, e = np.array(z), np.array(n), np.array(e)\n",
    "    z, n, e = z.astype(float), n.astype(float), e.astype(float)\n",
    "    \n",
    "    return z, n, e"
   ]
  },
  {
   "cell_type": "code",
   "execution_count": null,
   "id": "2ed5b45b",
   "metadata": {},
   "outputs": [],
   "source": [
    "def modify_2012(p):\n",
    "    for k in p.keys():\n",
    "        try:\n",
    "            # 看測站內有多少組波形資料\n",
    "            n_data = p[k]['numberOfData']\n",
    "            \n",
    "            for w in range(n_data):\n",
    "                if type(p[k][str(w)]['intensity']) == str:\n",
    "                    continue\n",
    "                z, n, e = readWave(p[k][str(w)]['waveFile'])\n",
    "                \n",
    "                # get the type of waveform: velocity or acceleration\n",
    "                waveType = p[k][str(w)]['datatype']\n",
    "                \n",
    "                # get the sampling rate\n",
    "                sampleRate = p[k][str(w)]['sampling_rate']\n",
    "                \n",
    "                intensity, pga, pgv = calc_intensity(z, n, e, waveType, sampleRate)\n",
    "                \n",
    "                p[k][str(w)]['intensity'] = intensity\n",
    "                p[k][str(w)]['pga'], p[k][str(w)]['pgv'] = round(pga, 2), round(pgv, 2)\n",
    "                p[k][str(w)]['DataAvailable']['intensity'] = True\n",
    "                p[k][str(w)]['DataAvailable']['pga'] = True\n",
    "                p[k][str(w)]['DataAvailable']['pgv'] = True\n",
    "                \n",
    "                #print(f\"station: {k}, distance: {p[k]['distance']}, intensity: {intensity}, pga: {pga}, pgv: {pgv},  waveType: {waveType}\")\n",
    "                \n",
    "                #draw(z, n, e)\n",
    "        except Exception as e:\n",
    "            #print(k, e)\n",
    "            pass\n",
    "    \n",
    "    return p"
   ]
  },
  {
   "cell_type": "markdown",
   "id": "0c7cc100",
   "metadata": {},
   "source": [
    "z, n, e = readWave(\"/mnt/nas6/CWBSN/2016/wave/16122907550/TYC_0.txt\")\n",
    "gt = np.ones(z.shape[0])"
   ]
  },
  {
   "cell_type": "markdown",
   "id": "dee0f57b",
   "metadata": {},
   "source": [
    "# plt.figure(figsize=(21, 22))\n",
    "plt.figure(figsize=(6, 10))\n",
    "plt.subplot(411)\n",
    "plt.title('Z')\n",
    "plt.plot(z)\n",
    "\n",
    "plt.subplot(412)\n",
    "plt.title('N')\n",
    "plt.plot(n)\n",
    "\n",
    "plt.subplot(413)\n",
    "plt.title('E')\n",
    "plt.plot(e)\n",
    "\n",
    "plt.subplot(414)\n",
    "plt.title('P duration')\n",
    "plt.plot(gt)\n",
    "\n",
    "path = '/mnt/nas7/M11015203/docker-home/earthquake/web/TPMI_searchManagement/blog/static/Wave0.png'\n",
    "plt.savefig(path)\n",
    "plt.clf()\n",
    "plt.close()"
   ]
  },
  {
   "cell_type": "code",
   "execution_count": null,
   "id": "d4619aa0",
   "metadata": {},
   "outputs": [],
   "source": []
  }
 ],
 "metadata": {
  "kernelspec": {
   "display_name": "Earthworm",
   "language": "python",
   "name": "earthworm"
  },
  "language_info": {
   "codemirror_mode": {
    "name": "ipython",
    "version": 3
   },
   "file_extension": ".py",
   "mimetype": "text/x-python",
   "name": "python",
   "nbconvert_exporter": "python",
   "pygments_lexer": "ipython3",
   "version": "3.8.6"
  }
 },
 "nbformat": 4,
 "nbformat_minor": 5
}
