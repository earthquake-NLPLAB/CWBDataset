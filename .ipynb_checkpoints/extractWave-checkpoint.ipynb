{
 "cells": [
  {
   "cell_type": "code",
   "execution_count": 1,
   "id": "c0362f0d",
   "metadata": {},
   "outputs": [],
   "source": [
    "import numpy as np\n",
    "import json\n",
    "import glob\n",
    "import os\n",
    "import matplotlib.pyplot as plt\n",
    "from tqdm import tqdm"
   ]
  },
  {
   "cell_type": "code",
   "execution_count": 185,
   "id": "216d01f2",
   "metadata": {},
   "outputs": [],
   "source": [
    "def writeTXT(z, n, e, save_path, k, w):    \n",
    "    tmp = k + '_' + str(w)\n",
    "    filepath = os.path.join(save_path, tmp)\n",
    "    \n",
    "    with open(filepath+'.txt', 'w') as file:\n",
    "        file.write('\\tZ\\tN\\tE\\n')\n",
    "        for i in range(z.shape[0]):\n",
    "            file.write('\\t{}\\t{}\\t{}\\n'.format(z[i], n[i], e[i]))\n",
    "    \n",
    "    return filepath+'.txt'"
   ]
  },
  {
   "cell_type": "code",
   "execution_count": 186,
   "id": "087189a2",
   "metadata": {},
   "outputs": [],
   "source": [
    "def extractWave(p, save_path):\n",
    "    save_path = os.path.join(save_path, p['event'])\n",
    "    if not os.path.exists(save_path):\n",
    "        #print('creating directiory: %s' %(save_path))\n",
    "        os.mkdir(save_path)\n",
    "    \n",
    "    for k in p.keys():\n",
    "        try:\n",
    "            # 看測站內有多少組波形資料\n",
    "            n_data = p[k]['numberOfData']\n",
    "            for w in range(n_data):\n",
    "                # get Z, N, E, convert to ndarray\n",
    "                z, n, e = p[k][str(w)]['Z'], p[k][str(w)]['N'], p[k][str(w)]['E']\n",
    "                z, n, e = np.array(z), np.array(n), np.array(e)\n",
    "                \n",
    "                # multiply z, n, e by factor\n",
    "                z, n, e = z*p[k][str(w)]['factor'][0], n*p[k][str(w)]['factor'][1], e*p[k][str(w)]['factor'][2]\n",
    "                instrument = p[k][str(w)]['instrument']\n",
    "                \n",
    "                # extract waveform & remove waveform from json\n",
    "                waveFile = writeTXT(z, n, e, save_path, k, w)\n",
    "                p[k][str(w)]['waveFile'] = waveFile\n",
    "                \n",
    "                del p[k][str(w)]['Z'], p[k][str(w)]['N'], p[k][str(w)]['E']\n",
    "                del p[k][str(w)]['factor']\n",
    "               \n",
    "                print(p[k][str(w)]['waveFile'])\n",
    "        except Exception as e:\n",
    "            pass\n",
    "        \n",
    "    return p"
   ]
  },
  {
   "cell_type": "code",
   "execution_count": 187,
   "id": "1331a41b",
   "metadata": {},
   "outputs": [],
   "source": [
    "rootpath = '/mnt/nas6/CWBSN'\n",
    "year = '2012'\n",
    "save_path = root_path = os.path.join(rootpath, year)\n",
    "files = os.listdir(root_path)"
   ]
  },
  {
   "cell_type": "code",
   "execution_count": 189,
   "id": "cc69e190",
   "metadata": {},
   "outputs": [
    {
     "name": "stdout",
     "output_type": "stream",
     "text": [
      "creating directiory: /mnt/nas6/CWBSN/2012/wave\n"
     ]
    }
   ],
   "source": [
    "path = os.path.join(save_path, 'wave')\n",
    "if not os.path.exists(path):\n",
    "    print('creating directiory: %s' %(path))\n",
    "    os.mkdir(path)"
   ]
  },
  {
   "cell_type": "code",
   "execution_count": 181,
   "id": "34da56ab",
   "metadata": {},
   "outputs": [
    {
     "name": "stdout",
     "output_type": "stream",
     "text": [
      "/mnt/nas6/CWBSN/2020/24101815(0).json\n",
      "creating directiory: /mnt/nas6/CWBSN/2020/wave/200121018150\n",
      "string indices must be integers\n",
      "'float' object is not subscriptable\n",
      "'float' object is not subscriptable\n",
      "'float' object is not subscriptable\n",
      "'float' object is not subscriptable\n",
      "'float' object is not subscriptable\n",
      "'int' object is not subscriptable\n",
      "'float' object is not subscriptable\n",
      "'float' object is not subscriptable\n",
      "'float' object is not subscriptable\n",
      "string indices must be integers\n",
      "'int' object is not subscriptable\n",
      "string indices must be integers\n",
      "/mnt/nas6/CWBSN/2020/wave/200121018150/ESA_0.txt\n",
      "/mnt/nas6/CWBSN/2020/wave/200121018150/ESA_1.txt\n",
      "/mnt/nas6/CWBSN/2020/wave/200121018150/ESA_2.txt\n",
      "/mnt/nas6/CWBSN/2020/wave/200121018150/TWC_0.txt\n",
      "/mnt/nas6/CWBSN/2020/wave/200121018150/TWC_1.txt\n",
      "/mnt/nas6/CWBSN/2020/wave/200121018150/EWT_0.txt\n",
      "/mnt/nas6/CWBSN/2020/wave/200121018150/EWT_1.txt\n",
      "/mnt/nas6/CWBSN/2020/wave/200121018150/EWT_2.txt\n",
      "/mnt/nas6/CWBSN/2020/wave/200121018150/ENA_0.txt\n",
      "/mnt/nas6/CWBSN/2020/wave/200121018150/ENA_1.txt\n",
      "/mnt/nas6/CWBSN/2020/wave/200121018150/NDS_0.txt\n",
      "/mnt/nas6/CWBSN/2020/wave/200121018150/NDS_1.txt\n",
      "/mnt/nas6/CWBSN/2020/wave/200121018150/NDS_2.txt\n",
      "/mnt/nas6/CWBSN/2020/wave/200121018150/EAH_0.txt\n",
      "/mnt/nas6/CWBSN/2020/wave/200121018150/EAH_1.txt\n",
      "/mnt/nas6/CWBSN/2020/wave/200121018150/EAH_2.txt\n",
      "/mnt/nas6/CWBSN/2020/wave/200121018150/EHP_0.txt\n",
      "/mnt/nas6/CWBSN/2020/wave/200121018150/ILA_0.txt\n",
      "/mnt/nas6/CWBSN/2020/wave/200121018150/ILA_1.txt\n",
      "/mnt/nas6/CWBSN/2020/wave/200121018150/ILA_2.txt\n",
      "/mnt/nas6/CWBSN/2020/wave/200121018150/ILA_3.txt\n",
      "/mnt/nas6/CWBSN/2020/wave/200121018150/TWE_0.txt\n",
      "/mnt/nas6/CWBSN/2020/wave/200121018150/TWE_1.txt\n",
      "/mnt/nas6/CWBSN/2020/wave/200121018150/LATB_0.txt\n"
     ]
    },
    {
     "ename": "KeyboardInterrupt",
     "evalue": "",
     "output_type": "error",
     "traceback": [
      "\u001b[0;31m---------------------------------------------------------------------------\u001b[0m",
      "\u001b[0;31mKeyboardInterrupt\u001b[0m                         Traceback (most recent call last)",
      "\u001b[0;32m/tmp/ipykernel_3173/858448179.py\u001b[0m in \u001b[0;36m<module>\u001b[0;34m\u001b[0m\n\u001b[1;32m      4\u001b[0m     \u001b[0mp\u001b[0m \u001b[0;34m=\u001b[0m \u001b[0mjson\u001b[0m\u001b[0;34m.\u001b[0m\u001b[0mload\u001b[0m\u001b[0;34m(\u001b[0m\u001b[0mf\u001b[0m\u001b[0;34m)\u001b[0m\u001b[0;34m\u001b[0m\u001b[0;34m\u001b[0m\u001b[0m\n\u001b[1;32m      5\u001b[0m \u001b[0;34m\u001b[0m\u001b[0m\n\u001b[0;32m----> 6\u001b[0;31m     \u001b[0mp\u001b[0m \u001b[0;34m=\u001b[0m \u001b[0mextractWave\u001b[0m\u001b[0;34m(\u001b[0m\u001b[0mp\u001b[0m\u001b[0;34m,\u001b[0m \u001b[0mpath\u001b[0m\u001b[0;34m)\u001b[0m\u001b[0;34m\u001b[0m\u001b[0;34m\u001b[0m\u001b[0m\n\u001b[0m\u001b[1;32m      7\u001b[0m     \u001b[0;32mbreak\u001b[0m\u001b[0;34m\u001b[0m\u001b[0;34m\u001b[0m\u001b[0m\n",
      "\u001b[0;32m/tmp/ipykernel_3173/1217078026.py\u001b[0m in \u001b[0;36mextractWave\u001b[0;34m(p, save_path)\u001b[0m\n\u001b[1;32m     19\u001b[0m \u001b[0;34m\u001b[0m\u001b[0m\n\u001b[1;32m     20\u001b[0m                 \u001b[0;31m# extract waveform & remove waveform from json\u001b[0m\u001b[0;34m\u001b[0m\u001b[0;34m\u001b[0m\u001b[0;34m\u001b[0m\u001b[0m\n\u001b[0;32m---> 21\u001b[0;31m                 \u001b[0mwaveFile\u001b[0m \u001b[0;34m=\u001b[0m \u001b[0mwriteTXT\u001b[0m\u001b[0;34m(\u001b[0m\u001b[0mz\u001b[0m\u001b[0;34m,\u001b[0m \u001b[0mn\u001b[0m\u001b[0;34m,\u001b[0m \u001b[0me\u001b[0m\u001b[0;34m,\u001b[0m \u001b[0msave_path\u001b[0m\u001b[0;34m,\u001b[0m \u001b[0mk\u001b[0m\u001b[0;34m,\u001b[0m \u001b[0mw\u001b[0m\u001b[0;34m)\u001b[0m\u001b[0;34m\u001b[0m\u001b[0;34m\u001b[0m\u001b[0m\n\u001b[0m\u001b[1;32m     22\u001b[0m                 \u001b[0mp\u001b[0m\u001b[0;34m[\u001b[0m\u001b[0mk\u001b[0m\u001b[0;34m]\u001b[0m\u001b[0;34m[\u001b[0m\u001b[0mstr\u001b[0m\u001b[0;34m(\u001b[0m\u001b[0mw\u001b[0m\u001b[0;34m)\u001b[0m\u001b[0;34m]\u001b[0m\u001b[0;34m[\u001b[0m\u001b[0;34m'waveFile'\u001b[0m\u001b[0;34m]\u001b[0m \u001b[0;34m=\u001b[0m \u001b[0mwaveFile\u001b[0m\u001b[0;34m\u001b[0m\u001b[0;34m\u001b[0m\u001b[0m\n\u001b[1;32m     23\u001b[0m \u001b[0;34m\u001b[0m\u001b[0m\n",
      "\u001b[0;32m/tmp/ipykernel_3173/1507287097.py\u001b[0m in \u001b[0;36mwriteTXT\u001b[0;34m(z, n, e, save_path, k, w)\u001b[0m\n\u001b[1;32m      6\u001b[0m         \u001b[0mfile\u001b[0m\u001b[0;34m.\u001b[0m\u001b[0mwrite\u001b[0m\u001b[0;34m(\u001b[0m\u001b[0;34m'\\tZ\\tN\\tE\\n'\u001b[0m\u001b[0;34m)\u001b[0m\u001b[0;34m\u001b[0m\u001b[0;34m\u001b[0m\u001b[0m\n\u001b[1;32m      7\u001b[0m         \u001b[0;32mfor\u001b[0m \u001b[0mi\u001b[0m \u001b[0;32min\u001b[0m \u001b[0mrange\u001b[0m\u001b[0;34m(\u001b[0m\u001b[0mz\u001b[0m\u001b[0;34m.\u001b[0m\u001b[0mshape\u001b[0m\u001b[0;34m[\u001b[0m\u001b[0;36m0\u001b[0m\u001b[0;34m]\u001b[0m\u001b[0;34m)\u001b[0m\u001b[0;34m:\u001b[0m\u001b[0;34m\u001b[0m\u001b[0;34m\u001b[0m\u001b[0m\n\u001b[0;32m----> 8\u001b[0;31m             \u001b[0mfile\u001b[0m\u001b[0;34m.\u001b[0m\u001b[0mwrite\u001b[0m\u001b[0;34m(\u001b[0m\u001b[0;34m'\\t{}\\t{}\\t{}\\n'\u001b[0m\u001b[0;34m.\u001b[0m\u001b[0mformat\u001b[0m\u001b[0;34m(\u001b[0m\u001b[0mz\u001b[0m\u001b[0;34m[\u001b[0m\u001b[0mi\u001b[0m\u001b[0;34m]\u001b[0m\u001b[0;34m,\u001b[0m \u001b[0mn\u001b[0m\u001b[0;34m[\u001b[0m\u001b[0mi\u001b[0m\u001b[0;34m]\u001b[0m\u001b[0;34m,\u001b[0m \u001b[0me\u001b[0m\u001b[0;34m[\u001b[0m\u001b[0mi\u001b[0m\u001b[0;34m]\u001b[0m\u001b[0;34m)\u001b[0m\u001b[0;34m)\u001b[0m\u001b[0;34m\u001b[0m\u001b[0;34m\u001b[0m\u001b[0m\n\u001b[0m\u001b[1;32m      9\u001b[0m \u001b[0;34m\u001b[0m\u001b[0m\n\u001b[1;32m     10\u001b[0m     \u001b[0;32mreturn\u001b[0m \u001b[0mfilepath\u001b[0m\u001b[0;34m+\u001b[0m\u001b[0;34m'.txt'\u001b[0m\u001b[0;34m\u001b[0m\u001b[0;34m\u001b[0m\u001b[0m\n",
      "\u001b[0;31mKeyboardInterrupt\u001b[0m: "
     ]
    }
   ],
   "source": [
    "for file in tqdm(files):\n",
    "    f = open(os.path.join(root_path, file), 'r')\n",
    "    p = json.load(f)\n",
    "    \n",
    "    p = extractWave(p, path)\n",
    "    \n",
    "    # delete original json file\n",
    "    os.remove(os.path.join(root_path, file))\n",
    "    \n",
    "    with open(os.path.join(root_path, file), 'w') as f:\n",
    "        json.dump(p, f)\n",
    "        \n",
    "    break"
   ]
  },
  {
   "cell_type": "code",
   "execution_count": 182,
   "id": "6dad29d3",
   "metadata": {},
   "outputs": [],
   "source": [
    "def readWave(path):\n",
    "    with open(path, 'r')as f:\n",
    "        tmp = f.readlines()\n",
    "\n",
    "    z, n, e = [], [], []\n",
    "    for i in tmp[1:]:\n",
    "        value = i.split()\n",
    "\n",
    "        z.append(value[0])\n",
    "        n.append(value[1])\n",
    "        e.append(value[2])\n",
    "        \n",
    "    z, n, e = np.array(z), np.array(n), np.array(e)\n",
    "    z, n, e = z.astype(float), n.astype(float), e.astype(float)\n",
    "    \n",
    "    return z, n, e"
   ]
  },
  {
   "cell_type": "code",
   "execution_count": null,
   "id": "91719d48",
   "metadata": {},
   "outputs": [],
   "source": []
  }
 ],
 "metadata": {
  "kernelspec": {
   "display_name": "Earthworm",
   "language": "python",
   "name": "earthworm"
  },
  "language_info": {
   "codemirror_mode": {
    "name": "ipython",
    "version": 3
   },
   "file_extension": ".py",
   "mimetype": "text/x-python",
   "name": "python",
   "nbconvert_exporter": "python",
   "pygments_lexer": "ipython3",
   "version": "3.8.6"
  }
 },
 "nbformat": 4,
 "nbformat_minor": 5
}
