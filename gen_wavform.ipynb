{
 "cells": [
  {
   "cell_type": "code",
   "execution_count": 1,
   "id": "b68a56b9",
   "metadata": {},
   "outputs": [],
   "source": [
    "import json\n",
    "import os\n",
    "import numpy as np\n",
    "import glob\n",
    "import datetime\n",
    "import matplotlib.pyplot as plt\n",
    "from tqdm import tqdm\n",
    "from IPython.display import clear_output"
   ]
  },
  {
   "cell_type": "code",
   "execution_count": 2,
   "id": "c0594466",
   "metadata": {},
   "outputs": [],
   "source": [
    "def toTime(time):\n",
    "    year, month, day = int(time[:4]), int(time[5:7]), int(time[8:10])\n",
    "    hour, minute, second = int(time[11:13]), int(time[14:16]), int(time[17:19])\n",
    "\n",
    "    if len(time) > 19:\n",
    "        microsec = int(time[20:-1])\n",
    "        return datetime.datetime(year, month, day, hour, minute, second, microsec)\n",
    "    else:\n",
    "        return datetime.datetime(year, month, day, hour, minute, second)"
   ]
  },
  {
   "cell_type": "code",
   "execution_count": 3,
   "id": "2eb2da9e",
   "metadata": {},
   "outputs": [],
   "source": [
    "def fileTime(time):\n",
    "    year, month, day = time[:4], time[5:7], time[8:10]\n",
    "    hour, minute, second = time[11:13], time[14:16], time[17:19]\n",
    "    \n",
    "    return year+month+day+hour+minute+second"
   ]
  },
  {
   "cell_type": "code",
   "execution_count": 4,
   "id": "1b64c083",
   "metadata": {},
   "outputs": [],
   "source": [
    "def genDuration(start, ptime, stime, sample_rate, length):\n",
    "    \n",
    "    # time: str -> datetime.datetime\n",
    "    start, ptime, stime = toTime(start), toTime(ptime), toTime(stime)\n",
    "    \n",
    "    # ptime, stime 減去儀器開始時間，以得到具體在哪個 sample point\n",
    "    diff_p, diff_s = ptime-start, stime-start\n",
    "    sec_diff_p, microsec_diff_p = diff_p.seconds, diff_p.microseconds\n",
    "    sec_diff_s, microsec_diff_s = diff_s.seconds, diff_s.microseconds\n",
    "    \n",
    "    p_trigger_sample = int((sec_diff_p+microsec_diff_p/1e+5)*sample_rate)\n",
    "    s_trigger_sample = int((sec_diff_s+microsec_diff_s/1e+5)*sample_rate)\n",
    "\n",
    "    # 生成 ground-truth\n",
    "    gt = np.zeros(length)\n",
    "    gt[p_trigger_sample:s_trigger_sample] = 1\n",
    "    \n",
    "    return gt"
   ]
  },
  {
   "cell_type": "code",
   "execution_count": 5,
   "id": "82ab91e5",
   "metadata": {},
   "outputs": [],
   "source": [
    "# 速度微分 -> 加速度\n",
    "# 100.0: sampling_rate\n",
    "def v_to_a(z, n, e, sample_rate):\n",
    "    d_z = np.gradient(z, 1.0/sample_rate)\n",
    "    d_n = np.gradient(n, 1.0/sample_rate)\n",
    "    d_e = np.gradient(e, 1.0/sample_rate)\n",
    "\n",
    "    return d_z, d_n, d_e"
   ]
  },
  {
   "cell_type": "code",
   "execution_count": 6,
   "id": "433191a4",
   "metadata": {},
   "outputs": [],
   "source": [
    "def check_csv_exist(ori_time, station, instrument, stage, root_save_path):\n",
    "    ori_time = fileTime(ori_time)\n",
    "    \n",
    "    file_name = ori_time + '_' + station + '_' + instrument\n",
    "    base_path = os.path.join(stage, file_name)\n",
    "    save_path = os.path.join(root_save_path, base_path)\n",
    "    \n",
    "    if os.path.exists(save_path+'.csv'):\n",
    "        return True\n",
    "    else:\n",
    "        return False"
   ]
  },
  {
   "cell_type": "code",
   "execution_count": 7,
   "id": "dd2fd010",
   "metadata": {},
   "outputs": [],
   "source": [
    "def toCSV(z, n, e, gt, ori_time, station, instrument, stage, root_save_path, cut):\n",
    "    cut = int(cut)\n",
    "    z, n, e, gt = z[:cut], n[:cut], e[:cut], gt[:cut]\n",
    "    to_write = np.vstack((e, n, z, gt))\n",
    "    ori_time = fileTime(ori_time)\n",
    "   \n",
    "    # filename: 地震發生時間 + 測站名 + 儀器種類\n",
    "    file_name = ori_time + '_' + station + '_' + instrument\n",
    "    base_path = os.path.join(stage, file_name)\n",
    "    save_path = os.path.join(root_save_path, base_path)\n",
    "    print(save_path)\n",
    "    np.savetxt(save_path+'.csv', to_write, delimiter=',')"
   ]
  },
  {
   "cell_type": "code",
   "execution_count": 8,
   "id": "359d1e6e",
   "metadata": {},
   "outputs": [],
   "source": [
    "def check_wave(wave):\n",
    "    if np.mean(wave) == 0.0 and np.var(wave) == 0.0:\n",
    "        return False\n",
    "    else:\n",
    "        return True"
   ]
  },
  {
   "cell_type": "markdown",
   "id": "f2dd239a",
   "metadata": {},
   "source": [
    "### 取地震波形:\n",
    "    \n",
    "    1. 先檢查 s_arrival_time 是否有效(有些 pfile 中的值=0) && 篩選震央距離或震度來取 waveforms\n",
    "        \n",
    "    2. 取 Z, N, E, factor, p_arrival_time, s_arrival_time\n",
    "    \n",
    "    3. 確定資料類型是 Velocity or Acceleration，if Velocity: 微分成 acceleration\n",
    "    \n",
    "    4. Label 出 p-wave duration (ground-truth)\n",
    "    \n",
    "    5. 匯入 csv"
   ]
  },
  {
   "cell_type": "code",
   "execution_count": 25,
   "id": "2550c2de",
   "metadata": {},
   "outputs": [],
   "source": [
    "def getSeisWave(p, root_save_path):\n",
    "    for k in p.keys():\n",
    "        try:\n",
    "            # 看測站內有多少組波形資料\n",
    "            n_data = p[k]['numberOfData']\n",
    "            clear_output(wait=True)\n",
    "            for w in range(n_data):\n",
    "                \n",
    "                # 若儀器失效或是沒有抓到 s波到時就不要存成訓練資料\n",
    "                if (not p[k][str(w)]['DataAvailable']['instrument']) or (not p[k][str(w)]['DataAvailable']['Stime']):\n",
    "                    continue\n",
    "                \n",
    "                # 只挑 instrument=FBA\n",
    "                if p[k][str(w)]['instrument'] != 'FBA':\n",
    "                    continue\n",
    "                    \n",
    "                # get Z, N, E, convert to ndarray\n",
    "                z, n, e = p[k][str(w)]['Z'], p[k][str(w)]['N'], p[k][str(w)]['E']\n",
    "                z, n, e = np.array(z), np.array(n), np.array(e)\n",
    "                \n",
    "                # multiply z, n, e by factor\n",
    "                z, n, e = z*p[k][str(w)]['factor'][0], n*p[k][str(w)]['factor'][1], e*p[k][str(w)]['factor'][2]\n",
    "                \n",
    "                ori_time, instrument = p['ori_time'], p[k][str(w)]['instrument']\n",
    "                \n",
    "                # 檢查波形有效性\n",
    "                if (not check_wave(z)) or (not check_wave(n)) or (not check_wave(e)) or \\\n",
    "                    (check_csv_exist(ori_time, k, instrument, 'seis', root_save_path)):\n",
    "                    continue\n",
    "                \n",
    "                # get the multiple attributes\n",
    "                waveType = p[k][str(w)]['datatype']\n",
    "                sampleRate = p[k][str(w)]['sampling_rate']\n",
    "                starttime = p[k][str(w)]['starttime']\n",
    "                ptime, stime = p[k][str(w)]['p_arrival_time'], p[k][str(w)]['s_arrival_time']\n",
    "                \n",
    "                # if datatype='velocity', 積分成 acceleration\n",
    "                if waveType == 'velocity':\n",
    "                    z, n, e = v_to_a(z, n, e, sampleRate)\n",
    "                    \n",
    "                # label p-wave duration\n",
    "                gt = genDuration(starttime, ptime, stime, sampleRate, z.shape[0])\n",
    "                \n",
    "                # Display info\n",
    "                #print(f\"event time: {p['ori_time']}, station: {k}\")\n",
    "                draw(z, n, e, gt)\n",
    "                \n",
    "                # Check manually\n",
    "                print('p_weight, s_weight: (%.2f, %.2f)' %(p[k]['p_weight'], p[k]['s_weight']))\n",
    "                available = input(\"Keep waveform? (0: Discard, 1: Keep it) \")\n",
    "                if available == '1':\n",
    "                    # 決定切在哪邊\n",
    "                    cut = input(\"Where to cut? (sample) \")\n",
    "                    \n",
    "                    # write into csv file\n",
    "                    toCSV(z, n, e, gt, ori_time, k, instrument, 'seis', root_save_path, cut)\n",
    "                else:\n",
    "                    continue\n",
    "        except Exception as e:\n",
    "            pass\n",
    "#             print(e)"
   ]
  },
  {
   "cell_type": "code",
   "execution_count": 10,
   "id": "6ed8e1e9",
   "metadata": {},
   "outputs": [],
   "source": [
    "def draw(z, n, e, gt):\n",
    "    plt.figure(figsize=(35, 25))\n",
    "    plt.subplot(411)\n",
    "    plt.title('Z')\n",
    "    plt.plot(z)\n",
    "    \n",
    "    plt.subplot(412)\n",
    "    plt.title('N')\n",
    "    plt.plot(n)\n",
    "    \n",
    "    plt.subplot(413)\n",
    "    plt.title('E')\n",
    "    plt.plot(e)\n",
    "    \n",
    "    plt.subplot(414)\n",
    "    plt.title('GT')\n",
    "    plt.plot(gt)\n",
    "    plt.show()"
   ]
  },
  {
   "cell_type": "code",
   "execution_count": null,
   "id": "2c2628d2",
   "metadata": {},
   "outputs": [],
   "source": [
    "# finish: \n",
    "root = \"/mnt/nas6/CWBDatasets/2015/\"\n",
    "root_save_path = \"/mnt/nas7/weiwei/earthquake_RNN/newTrain/\"\n",
    "files = os.listdir(root)"
   ]
  },
  {
   "cell_type": "code",
   "execution_count": null,
   "id": "59955fe2",
   "metadata": {},
   "outputs": [],
   "source": [
    "for f in files:\n",
    "    print(f)\n",
    "    f = open(os.path.join(root, f), 'r')\n",
    "    p = json.load(f)\n",
    "    \n",
    "    getSeisWave(p, root_save_path)"
   ]
  },
  {
   "cell_type": "code",
   "execution_count": null,
   "id": "1ae7f4e3",
   "metadata": {},
   "outputs": [],
   "source": []
  }
 ],
 "metadata": {
  "kernelspec": {
   "display_name": "Earthworm",
   "language": "python",
   "name": "earthworm"
  },
  "language_info": {
   "codemirror_mode": {
    "name": "ipython",
    "version": 3
   },
   "file_extension": ".py",
   "mimetype": "text/x-python",
   "name": "python",
   "nbconvert_exporter": "python",
   "pygments_lexer": "ipython3",
   "version": "3.8.6"
  }
 },
 "nbformat": 4,
 "nbformat_minor": 5
}
