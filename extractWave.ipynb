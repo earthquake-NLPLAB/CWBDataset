{
 "cells": [
  {
   "cell_type": "code",
   "execution_count": 1,
   "id": "c0362f0d",
   "metadata": {},
   "outputs": [],
   "source": [
    "import numpy as np\n",
    "import json\n",
    "import glob\n",
    "import os\n",
    "import matplotlib.pyplot as plt\n",
    "from tqdm import tqdm"
   ]
  },
  {
   "cell_type": "code",
   "execution_count": 198,
   "id": "05b28a43",
   "metadata": {},
   "outputs": [],
   "source": [
    "# 取得某個階段的所有檔名\n",
    "def get_filename(root_dir):\n",
    "    tmp = glob.glob(root_dir + '/*.json')\n",
    "        \n",
    "    return tmp"
   ]
  },
  {
   "cell_type": "code",
   "execution_count": 191,
   "id": "216d01f2",
   "metadata": {},
   "outputs": [],
   "source": [
    "def writeTXT(z, n, e, save_path, k, w):    \n",
    "    tmp = k + '_' + str(w)\n",
    "    filepath = os.path.join(save_path, tmp)\n",
    "    \n",
    "    with open(filepath+'.txt', 'w') as file:\n",
    "        file.write('\\tZ\\tN\\tE\\n')\n",
    "        for i in range(z.shape[0]):\n",
    "            file.write('\\t{}\\t{}\\t{}\\n'.format(z[i], n[i], e[i]))\n",
    "    \n",
    "    return filepath+'.txt'"
   ]
  },
  {
   "cell_type": "code",
   "execution_count": 204,
   "id": "087189a2",
   "metadata": {},
   "outputs": [],
   "source": [
    "def extractWave(p, save_path):\n",
    "    save_path = os.path.join(save_path, p['event'])\n",
    "    if not os.path.exists(save_path):\n",
    "        #print('creating directiory: %s' %(save_path))\n",
    "        os.mkdir(save_path)\n",
    "    \n",
    "    for k in p.keys():\n",
    "        try:\n",
    "            # 看測站內有多少組波形資料\n",
    "            n_data = p[k]['numberOfData']\n",
    "            for w in range(n_data):\n",
    "                # get Z, N, E, convert to ndarray\n",
    "                z, n, e = p[k][str(w)]['Z'], p[k][str(w)]['N'], p[k][str(w)]['E']\n",
    "                z, n, e = np.array(z), np.array(n), np.array(e)\n",
    "                \n",
    "                # multiply z, n, e by factor\n",
    "                z, n, e = z*p[k][str(w)]['factor'][0], n*p[k][str(w)]['factor'][1], e*p[k][str(w)]['factor'][2]\n",
    "                instrument = p[k][str(w)]['instrument']\n",
    "                \n",
    "                # extract waveform & remove waveform from json\n",
    "                waveFile = writeTXT(z, n, e, save_path, k, w)\n",
    "                p[k][str(w)]['waveFile'] = waveFile\n",
    "                \n",
    "                del p[k][str(w)]['Z'], p[k][str(w)]['N'], p[k][str(w)]['E']\n",
    "                del p[k][str(w)]['factor']\n",
    "               \n",
    "        except Exception as e:\n",
    "#             print(e)\n",
    "            pass\n",
    "        \n",
    "    return p"
   ]
  },
  {
   "cell_type": "code",
   "execution_count": 199,
   "id": "1331a41b",
   "metadata": {},
   "outputs": [],
   "source": [
    "rootpath = '/mnt/nas6/CWBSN'\n",
    "year = '2012'\n",
    "save_path = root_path = os.path.join(rootpath, year)\n",
    "files = get_filename(root_path)"
   ]
  },
  {
   "cell_type": "code",
   "execution_count": 202,
   "id": "cc69e190",
   "metadata": {},
   "outputs": [],
   "source": [
    "path = os.path.join(save_path, 'wave')\n",
    "if not os.path.exists(path):\n",
    "    print('creating directiory: %s' %(path))\n",
    "    os.mkdir(path)"
   ]
  },
  {
   "cell_type": "code",
   "execution_count": 205,
   "id": "34da56ab",
   "metadata": {},
   "outputs": [
    {
     "name": "stderr",
     "output_type": "stream",
     "text": [
      "100%|███████████████████████████████████████████████████████████████████████████████████████████████████████████| 1253/1253 [58:44<00:00,  2.81s/it]\n"
     ]
    }
   ],
   "source": [
    "for file in tqdm(files):\n",
    "    f = open(os.path.join(root_path, file), 'r')\n",
    "    p = json.load(f)\n",
    "    \n",
    "    p = extractWave(p, path)\n",
    "    \n",
    "    # delete original json file\n",
    "    os.remove(os.path.join(root_path, file))\n",
    "    \n",
    "    with open(os.path.join(root_path, file), 'w') as f:\n",
    "        json.dump(p, f)"
   ]
  },
  {
   "cell_type": "code",
   "execution_count": 182,
   "id": "6dad29d3",
   "metadata": {},
   "outputs": [],
   "source": [
    "def readWave(path):\n",
    "    with open(path, 'r')as f:\n",
    "        tmp = f.readlines()\n",
    "\n",
    "    z, n, e = [], [], []\n",
    "    for i in tmp[1:]:\n",
    "        value = i.split()\n",
    "\n",
    "        z.append(value[0])\n",
    "        n.append(value[1])\n",
    "        e.append(value[2])\n",
    "        \n",
    "    z, n, e = np.array(z), np.array(n), np.array(e)\n",
    "    z, n, e = z.astype(float), n.astype(float), e.astype(float)\n",
    "    \n",
    "    return z, n, e"
   ]
  },
  {
   "cell_type": "code",
   "execution_count": null,
   "id": "68a3e5cb",
   "metadata": {},
   "outputs": [],
   "source": []
  }
 ],
 "metadata": {
  "kernelspec": {
   "display_name": "Earthworm",
   "language": "python",
   "name": "earthworm"
  },
  "language_info": {
   "codemirror_mode": {
    "name": "ipython",
    "version": 3
   },
   "file_extension": ".py",
   "mimetype": "text/x-python",
   "name": "python",
   "nbconvert_exporter": "python",
   "pygments_lexer": "ipython3",
   "version": "3.8.6"
  }
 },
 "nbformat": 4,
 "nbformat_minor": 5
}
